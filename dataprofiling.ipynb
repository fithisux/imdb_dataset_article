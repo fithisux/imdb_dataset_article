{
 "cells": [
  {
   "cell_type": "code",
   "execution_count": 2,
   "id": "33143d44-2e7d-42ad-aa78-8d4d49e89b7a",
   "metadata": {},
   "outputs": [],
   "source": [
    "%load_ext sql"
   ]
  },
  {
   "cell_type": "code",
   "execution_count": 5,
   "id": "907ac5a0-648c-403f-acf4-05f72ad3afe3",
   "metadata": {},
   "outputs": [
    {
     "data": {
      "text/html": [
       "<span style=\"None\">Connecting to &#x27;duckdb:///database_files/dev.duckdb&#x27;</span>"
      ],
      "text/plain": [
       "Connecting to 'duckdb:///database_files/dev.duckdb'"
      ]
     },
     "metadata": {},
     "output_type": "display_data"
    }
   ],
   "source": [
    "%sql duckdb:///database_files/dev.duckdb"
   ]
  },
  {
   "cell_type": "code",
   "execution_count": 7,
   "id": "8ee0ae1c-b7bc-4f39-a0f2-223bdb2dd54e",
   "metadata": {},
   "outputs": [
    {
     "data": {
      "text/html": [
       "<span style=\"None\">Running query in &#x27;duckdb:///database_files/dev.duckdb&#x27;</span>"
      ],
      "text/plain": [
       "Running query in 'duckdb:///database_files/dev.duckdb'"
      ]
     },
     "metadata": {},
     "output_type": "display_data"
    },
    {
     "data": {
      "application/vnd.jupyter.widget-view+json": {
       "model_id": "11f9686c950c4381a4d810697cf2f76b",
       "version_major": 2,
       "version_minor": 0
      },
      "text/plain": [
       "FloatProgress(value=0.0, layout=Layout(width='auto'), style=ProgressStyle(bar_color='black'))"
      ]
     },
     "metadata": {},
     "output_type": "display_data"
    },
    {
     "data": {
      "text/html": [
       "<table>\n",
       "    <thead>\n",
       "        <tr>\n",
       "            <th>count_star()</th>\n",
       "        </tr>\n",
       "    </thead>\n",
       "    <tbody>\n",
       "        <tr>\n",
       "            <td>10255985</td>\n",
       "        </tr>\n",
       "    </tbody>\n",
       "</table>"
      ],
      "text/plain": [
       "+--------------+\n",
       "| count_star() |\n",
       "+--------------+\n",
       "|   10255985   |\n",
       "+--------------+"
      ]
     },
     "execution_count": 7,
     "metadata": {},
     "output_type": "execute_result"
    }
   ],
   "source": [
    "%%sql\n",
    "select count(*) from title_basics_model;"
   ]
  },
  {
   "cell_type": "code",
   "execution_count": 9,
   "id": "06339792-98f3-48a2-9bec-85a4768f6bcf",
   "metadata": {},
   "outputs": [
    {
     "data": {
      "application/vnd.jupyter.widget-view+json": {
       "model_id": "8aad7013fdb24bf5a9780160982c0a46",
       "version_major": 2,
       "version_minor": 0
      },
      "text/plain": [
       "FloatProgress(value=0.0, layout=Layout(width='auto'), style=ProgressStyle(bar_color='black'))"
      ]
     },
     "metadata": {},
     "output_type": "display_data"
    },
    {
     "data": {
      "application/vnd.jupyter.widget-view+json": {
       "model_id": "e6ecb85c203a40d3842d145303b60235",
       "version_major": 2,
       "version_minor": 0
      },
      "text/plain": [
       "FloatProgress(value=0.0, layout=Layout(width='auto'), style=ProgressStyle(bar_color='black'))"
      ]
     },
     "metadata": {},
     "output_type": "display_data"
    },
    {
     "data": {
      "application/vnd.jupyter.widget-view+json": {
       "model_id": "29ea9b08a5ee45f9ba3ee253338cfaa2",
       "version_major": 2,
       "version_minor": 0
      },
      "text/plain": [
       "FloatProgress(value=0.0, layout=Layout(width='auto'), style=ProgressStyle(bar_color='black'))"
      ]
     },
     "metadata": {},
     "output_type": "display_data"
    },
    {
     "data": {
      "application/vnd.jupyter.widget-view+json": {
       "model_id": "acc33318d84f48f5ae02c33fb017800e",
       "version_major": 2,
       "version_minor": 0
      },
      "text/plain": [
       "FloatProgress(value=0.0, layout=Layout(width='auto'), style=ProgressStyle(bar_color='black'))"
      ]
     },
     "metadata": {},
     "output_type": "display_data"
    },
    {
     "data": {
      "application/vnd.jupyter.widget-view+json": {
       "model_id": "b709567bc2644336b3b4ad2e52675605",
       "version_major": 2,
       "version_minor": 0
      },
      "text/plain": [
       "FloatProgress(value=0.0, layout=Layout(width='auto'), style=ProgressStyle(bar_color='black'))"
      ]
     },
     "metadata": {},
     "output_type": "display_data"
    },
    {
     "data": {
      "application/vnd.jupyter.widget-view+json": {
       "model_id": "c9a47897fc604171a81284623bca2038",
       "version_major": 2,
       "version_minor": 0
      },
      "text/plain": [
       "FloatProgress(value=0.0, layout=Layout(width='auto'), style=ProgressStyle(bar_color='black'))"
      ]
     },
     "metadata": {},
     "output_type": "display_data"
    },
    {
     "data": {
      "application/vnd.jupyter.widget-view+json": {
       "model_id": "15a87697ca064bb48d93c7f88f0ad5c2",
       "version_major": 2,
       "version_minor": 0
      },
      "text/plain": [
       "FloatProgress(value=0.0, layout=Layout(width='auto'), style=ProgressStyle(bar_color='black'))"
      ]
     },
     "metadata": {},
     "output_type": "display_data"
    },
    {
     "data": {
      "application/vnd.jupyter.widget-view+json": {
       "model_id": "7fb4e7a9511740a5bb80be3b9ebad2ae",
       "version_major": 2,
       "version_minor": 0
      },
      "text/plain": [
       "FloatProgress(value=0.0, layout=Layout(width='auto'), style=ProgressStyle(bar_color='black'))"
      ]
     },
     "metadata": {},
     "output_type": "display_data"
    },
    {
     "data": {
      "application/vnd.jupyter.widget-view+json": {
       "model_id": "bb0eea3f872f4417ad9928d5571848e0",
       "version_major": 2,
       "version_minor": 0
      },
      "text/plain": [
       "FloatProgress(value=0.0, layout=Layout(width='auto'), style=ProgressStyle(bar_color='black'))"
      ]
     },
     "metadata": {},
     "output_type": "display_data"
    },
    {
     "data": {
      "application/vnd.jupyter.widget-view+json": {
       "model_id": "99a65fb4d95441a38bf4a3995a7bd130",
       "version_major": 2,
       "version_minor": 0
      },
      "text/plain": [
       "FloatProgress(value=0.0, layout=Layout(width='auto'), style=ProgressStyle(bar_color='black'))"
      ]
     },
     "metadata": {},
     "output_type": "display_data"
    },
    {
     "data": {
      "application/vnd.jupyter.widget-view+json": {
       "model_id": "7d94449c27934701a0f60f7aaacdd732",
       "version_major": 2,
       "version_minor": 0
      },
      "text/plain": [
       "FloatProgress(value=0.0, layout=Layout(width='auto'), style=ProgressStyle(bar_color='black'))"
      ]
     },
     "metadata": {},
     "output_type": "display_data"
    },
    {
     "data": {
      "application/vnd.jupyter.widget-view+json": {
       "model_id": "1ebfd319967b414daff0a1a506e919fe",
       "version_major": 2,
       "version_minor": 0
      },
      "text/plain": [
       "FloatProgress(value=0.0, layout=Layout(width='auto'), style=ProgressStyle(bar_color='black'))"
      ]
     },
     "metadata": {},
     "output_type": "display_data"
    },
    {
     "data": {
      "application/vnd.jupyter.widget-view+json": {
       "model_id": "1627a892e13b448f8d86a4d182b8630b",
       "version_major": 2,
       "version_minor": 0
      },
      "text/plain": [
       "FloatProgress(value=0.0, layout=Layout(width='auto'), style=ProgressStyle(bar_color='black'))"
      ]
     },
     "metadata": {},
     "output_type": "display_data"
    },
    {
     "data": {
      "application/vnd.jupyter.widget-view+json": {
       "model_id": "49c7f702e8ad4e04bba5eb3b385a04e2",
       "version_major": 2,
       "version_minor": 0
      },
      "text/plain": [
       "FloatProgress(value=0.0, layout=Layout(width='auto'), style=ProgressStyle(bar_color='black'))"
      ]
     },
     "metadata": {},
     "output_type": "display_data"
    },
    {
     "data": {
      "application/vnd.jupyter.widget-view+json": {
       "model_id": "c6df58ddc54e4f0aa3ad6c37306c7081",
       "version_major": 2,
       "version_minor": 0
      },
      "text/plain": [
       "FloatProgress(value=0.0, layout=Layout(width='auto'), style=ProgressStyle(bar_color='black'))"
      ]
     },
     "metadata": {},
     "output_type": "display_data"
    },
    {
     "data": {
      "application/vnd.jupyter.widget-view+json": {
       "model_id": "faaff37cbee74224a5af918821ebe4f5",
       "version_major": 2,
       "version_minor": 0
      },
      "text/plain": [
       "FloatProgress(value=0.0, layout=Layout(width='auto'), style=ProgressStyle(bar_color='black'))"
      ]
     },
     "metadata": {},
     "output_type": "display_data"
    },
    {
     "data": {
      "application/vnd.jupyter.widget-view+json": {
       "model_id": "c9d20452255f4e89bc3abdbd35768a39",
       "version_major": 2,
       "version_minor": 0
      },
      "text/plain": [
       "FloatProgress(value=0.0, layout=Layout(width='auto'), style=ProgressStyle(bar_color='black'))"
      ]
     },
     "metadata": {},
     "output_type": "display_data"
    },
    {
     "data": {
      "application/vnd.jupyter.widget-view+json": {
       "model_id": "4260333c6c6b42f8b42496b2b8931430",
       "version_major": 2,
       "version_minor": 0
      },
      "text/plain": [
       "FloatProgress(value=0.0, layout=Layout(width='auto'), style=ProgressStyle(bar_color='black'))"
      ]
     },
     "metadata": {},
     "output_type": "display_data"
    },
    {
     "data": {
      "application/vnd.jupyter.widget-view+json": {
       "model_id": "9f33d8774338469c9b60b15db4f38049",
       "version_major": 2,
       "version_minor": 0
      },
      "text/plain": [
       "FloatProgress(value=0.0, layout=Layout(width='auto'), style=ProgressStyle(bar_color='black'))"
      ]
     },
     "metadata": {},
     "output_type": "display_data"
    },
    {
     "data": {
      "application/vnd.jupyter.widget-view+json": {
       "model_id": "8ce8d92d9930427c8354b78c01394aa4",
       "version_major": 2,
       "version_minor": 0
      },
      "text/plain": [
       "FloatProgress(value=0.0, layout=Layout(width='auto'), style=ProgressStyle(bar_color='black'))"
      ]
     },
     "metadata": {},
     "output_type": "display_data"
    },
    {
     "data": {
      "application/vnd.jupyter.widget-view+json": {
       "model_id": "bfeae1fd1c8146b3993482122c9d3a6b",
       "version_major": 2,
       "version_minor": 0
      },
      "text/plain": [
       "FloatProgress(value=0.0, layout=Layout(width='auto'), style=ProgressStyle(bar_color='black'))"
      ]
     },
     "metadata": {},
     "output_type": "display_data"
    },
    {
     "data": {
      "application/vnd.jupyter.widget-view+json": {
       "model_id": "f52ad98209834a21a857154ab3ca8d4b",
       "version_major": 2,
       "version_minor": 0
      },
      "text/plain": [
       "FloatProgress(value=0.0, layout=Layout(width='auto'), style=ProgressStyle(bar_color='black'))"
      ]
     },
     "metadata": {},
     "output_type": "display_data"
    },
    {
     "data": {
      "application/vnd.jupyter.widget-view+json": {
       "model_id": "1aa0ad56b5af48608a1f1f3dd7a7e175",
       "version_major": 2,
       "version_minor": 0
      },
      "text/plain": [
       "FloatProgress(value=0.0, layout=Layout(width='auto'), style=ProgressStyle(bar_color='black'))"
      ]
     },
     "metadata": {},
     "output_type": "display_data"
    },
    {
     "data": {
      "application/vnd.jupyter.widget-view+json": {
       "model_id": "e462e09625d14e20acdd2136a70634ae",
       "version_major": 2,
       "version_minor": 0
      },
      "text/plain": [
       "FloatProgress(value=0.0, layout=Layout(width='auto'), style=ProgressStyle(bar_color='black'))"
      ]
     },
     "metadata": {},
     "output_type": "display_data"
    },
    {
     "data": {
      "application/vnd.jupyter.widget-view+json": {
       "model_id": "47d1e90de2de4d90a0a4deeb138313bb",
       "version_major": 2,
       "version_minor": 0
      },
      "text/plain": [
       "FloatProgress(value=0.0, layout=Layout(width='auto'), style=ProgressStyle(bar_color='black'))"
      ]
     },
     "metadata": {},
     "output_type": "display_data"
    },
    {
     "data": {
      "application/vnd.jupyter.widget-view+json": {
       "model_id": "63e6c677becc4f3f92017f9042efd436",
       "version_major": 2,
       "version_minor": 0
      },
      "text/plain": [
       "FloatProgress(value=0.0, layout=Layout(width='auto'), style=ProgressStyle(bar_color='black'))"
      ]
     },
     "metadata": {},
     "output_type": "display_data"
    },
    {
     "data": {
      "text/html": [
       "<div style='position: sticky; left: 0; padding: 10px; font-size: 12px; color: #FFA500'><strong></strong> </div><style>\n",
       " #profile-table td:first-child {\n",
       "  position: sticky;\n",
       "  left: 0;\n",
       "  background-color: var(--jp-cell-editor-background);\n",
       "  font-weight: bold;\n",
       "}\n",
       " #profile-table thead tr th:first-child {\n",
       "  position: sticky;\n",
       "  left: 0;\n",
       "  background-color: var(--jp-cell-editor-background);\n",
       "  font-weight: bold; /* Adding bold text */\n",
       "}\n",
       "            </style><style></style><table id=\"profile-table-43b92a9b57bc448b83e7d22f1aa74dea\">\n",
       "    <thead>\n",
       "        <tr>\n",
       "            <th> </th>\n",
       "            <th>tconst</th>\n",
       "            <th>ordering</th>\n",
       "            <th>nconst</th>\n",
       "            <th>category</th>\n",
       "            <th>job</th>\n",
       "            <th>characters</th>\n",
       "        </tr>\n",
       "    </thead>\n",
       "    <tbody>\n",
       "        <tr>\n",
       "            <td>count</td>\n",
       "            <td>58732961</td>\n",
       "            <td>58732961</td>\n",
       "            <td>58732961</td>\n",
       "            <td>58732961</td>\n",
       "            <td>9661882</td>\n",
       "            <td>58732961</td>\n",
       "        </tr>\n",
       "        <tr>\n",
       "            <td>unique</td>\n",
       "            <td>9285495</td>\n",
       "            <td>10</td>\n",
       "            <td>5157644</td>\n",
       "            <td>12</td>\n",
       "            <td>39949</td>\n",
       "            <td>2840110</td>\n",
       "        </tr>\n",
       "        <tr>\n",
       "            <td>top</td>\n",
       "            <td>tt0023427</td>\n",
       "            <td>nan</td>\n",
       "            <td>nm0914844</td>\n",
       "            <td>actor</td>\n",
       "            <td>producer</td>\n",
       "            <td>[]</td>\n",
       "        </tr>\n",
       "        <tr>\n",
       "            <td>freq</td>\n",
       "            <td>10</td>\n",
       "            <td>nan</td>\n",
       "            <td>24499</td>\n",
       "            <td>12974590</td>\n",
       "            <td>3761581</td>\n",
       "            <td>30469442</td>\n",
       "        </tr>\n",
       "        <tr>\n",
       "            <td>mean</td>\n",
       "            <td>nan</td>\n",
       "            <td>4.6130</td>\n",
       "            <td>nan</td>\n",
       "            <td>nan</td>\n",
       "            <td>nan</td>\n",
       "            <td>nan</td>\n",
       "        </tr>\n",
       "        <tr>\n",
       "            <td>std</td>\n",
       "            <td>nan</td>\n",
       "            <td>2.7870</td>\n",
       "            <td>nan</td>\n",
       "            <td>nan</td>\n",
       "            <td>nan</td>\n",
       "            <td>nan</td>\n",
       "        </tr>\n",
       "        <tr>\n",
       "            <td>min</td>\n",
       "            <td>nan</td>\n",
       "            <td>1</td>\n",
       "            <td>nan</td>\n",
       "            <td>nan</td>\n",
       "            <td>nan</td>\n",
       "            <td>nan</td>\n",
       "        </tr>\n",
       "        <tr>\n",
       "            <td>25%</td>\n",
       "            <td>nan</td>\n",
       "            <td>2.0000</td>\n",
       "            <td>nan</td>\n",
       "            <td>nan</td>\n",
       "            <td>nan</td>\n",
       "            <td>nan</td>\n",
       "        </tr>\n",
       "        <tr>\n",
       "            <td>50%</td>\n",
       "            <td>nan</td>\n",
       "            <td>4.0000</td>\n",
       "            <td>nan</td>\n",
       "            <td>nan</td>\n",
       "            <td>nan</td>\n",
       "            <td>nan</td>\n",
       "        </tr>\n",
       "        <tr>\n",
       "            <td>75%</td>\n",
       "            <td>nan</td>\n",
       "            <td>7.0000</td>\n",
       "            <td>nan</td>\n",
       "            <td>nan</td>\n",
       "            <td>nan</td>\n",
       "            <td>nan</td>\n",
       "        </tr>\n",
       "        <tr>\n",
       "            <td>max</td>\n",
       "            <td>nan</td>\n",
       "            <td>10</td>\n",
       "            <td>nan</td>\n",
       "            <td>nan</td>\n",
       "            <td>nan</td>\n",
       "            <td>nan</td>\n",
       "        </tr>\n",
       "    </tbody>\n",
       "</table><div style='position: sticky; left: 0; padding: 10px; font-size: 12px; color: black; background-color: white;'><strong></strong> </div>"
      ],
      "text/plain": [
       "+--------+-----------+----------+-----------+----------+----------+------------+\n",
       "|        |   tconst  | ordering |   nconst  | category |   job    | characters |\n",
       "+--------+-----------+----------+-----------+----------+----------+------------+\n",
       "| count  |  58732961 | 58732961 |  58732961 | 58732961 | 9661882  |  58732961  |\n",
       "| unique |  9285495  |    10    |  5157644  |    12    |  39949   |  2840110   |\n",
       "|  top   | tt0023427 |   nan    | nm0914844 |  actor   | producer |     []     |\n",
       "|  freq  |     10    |   nan    |   24499   | 12974590 | 3761581  |  30469442  |\n",
       "|  mean  |    nan    |  4.6130  |    nan    |   nan    |   nan    |    nan     |\n",
       "|  std   |    nan    |  2.7870  |    nan    |   nan    |   nan    |    nan     |\n",
       "|  min   |    nan    |    1     |    nan    |   nan    |   nan    |    nan     |\n",
       "|  25%   |    nan    |  2.0000  |    nan    |   nan    |   nan    |    nan     |\n",
       "|  50%   |    nan    |  4.0000  |    nan    |   nan    |   nan    |    nan     |\n",
       "|  75%   |    nan    |  7.0000  |    nan    |   nan    |   nan    |    nan     |\n",
       "|  max   |    nan    |    10    |    nan    |   nan    |   nan    |    nan     |\n",
       "+--------+-----------+----------+-----------+----------+----------+------------+"
      ]
     },
     "execution_count": 9,
     "metadata": {},
     "output_type": "execute_result"
    }
   ],
   "source": [
    "%sqlcmd profile --table title_principals_model_cleansed"
   ]
  }
 ],
 "metadata": {
  "kernelspec": {
   "display_name": "Python 3 (ipykernel)",
   "language": "python",
   "name": "python3"
  },
  "language_info": {
   "codemirror_mode": {
    "name": "ipython",
    "version": 3
   },
   "file_extension": ".py",
   "mimetype": "text/x-python",
   "name": "python",
   "nbconvert_exporter": "python",
   "pygments_lexer": "ipython3",
   "version": "3.11.6"
  }
 },
 "nbformat": 4,
 "nbformat_minor": 5
}
