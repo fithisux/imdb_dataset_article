{
 "cells": [
  {
   "cell_type": "code",
   "execution_count": null,
   "id": "ffcb6e7b-19c6-4a4b-8475-2af292c16a6b",
   "metadata": {},
   "outputs": [],
   "source": [
    "!pip install pandas"
   ]
  },
  {
   "cell_type": "code",
   "execution_count": null,
   "id": "afc5f502-b78a-4fcb-a72d-b8a019a74c0a",
   "metadata": {},
   "outputs": [],
   "source": [
    "import pandas as pd\n",
    "\n",
    "df = pd.read_table('../../imdb_files/title.akas.tsv.gz', dtype=str)\n",
    "print(df)"
   ]
  },
  {
   "cell_type": "code",
   "execution_count": null,
   "id": "c9ca80b0-7345-4729-bb3c-b7720a1d7de6",
   "metadata": {},
   "outputs": [],
   "source": [
    "df['types'][df['types'] == '\\\\N']"
   ]
  },
  {
   "cell_type": "code",
   "execution_count": null,
   "id": "28d3c22b-b240-4b65-940f-4836df0e2a87",
   "metadata": {},
   "outputs": [],
   "source": [
    "null_corrected_df = df.copy()\n",
    "null_corrected_df['types'][null_corrected_df['types'] == '\\\\N'] = None"
   ]
  },
  {
   "cell_type": "code",
   "execution_count": null,
   "id": "3584d9eb-65de-4c6a-bf46-aed760506de0",
   "metadata": {},
   "outputs": [],
   "source": [
    "null_corrected_df['types'].unique()"
   ]
  },
  {
   "cell_type": "code",
   "execution_count": null,
   "id": "767d7793-22a6-4211-a894-ce81173f18bb",
   "metadata": {},
   "outputs": [],
   "source": [
    "separator=bytearray.fromhex(\"02\").decode('utf-8')\n",
    "null_corrected_df['correct_types'] = null_corrected_df['types'].str.replace(separator,\";\").str.split(\";\")"
   ]
  },
  {
   "cell_type": "code",
   "execution_count": null,
   "id": "19cd190a-563d-4eee-a12c-4860eac26280",
   "metadata": {},
   "outputs": [],
   "source": [
    "nonull_df = null_corrected_df['correct_types'][null_corrected_df['correct_types'].notna()]\n",
    "nonull_df[nonull_df.map(len) == 2]"
   ]
  },
  {
   "cell_type": "code",
   "execution_count": null,
   "id": "aac28dbb-3e1a-415b-896e-9a8fb078ab23",
   "metadata": {},
   "outputs": [],
   "source": [
    "null_corrected_df = df.copy()\n",
    "null_corrected_df['attributes'][null_corrected_df['attributes'] == '\\\\N'] = None\n",
    "separator=bytearray.fromhex(\"02\").decode('utf-8')\n",
    "null_corrected_df['correct_attributes'] = null_corrected_df['attributes'].str.replace(separator,\";\").str.split(\";\")\n",
    "nonull_df = null_corrected_df['correct_attributes'][null_corrected_df['correct_attributes'].notna()]\n",
    "nonull_df[nonull_df.map(len) == 2]"
   ]
  }
 ],
 "metadata": {
  "kernelspec": {
   "display_name": "Python 3 (ipykernel)",
   "language": "python",
   "name": "python3"
  },
  "language_info": {
   "codemirror_mode": {
    "name": "ipython",
    "version": 3
   },
   "file_extension": ".py",
   "mimetype": "text/x-python",
   "name": "python",
   "nbconvert_exporter": "python",
   "pygments_lexer": "ipython3",
   "version": "3.11.6"
  }
 },
 "nbformat": 4,
 "nbformat_minor": 5
}
