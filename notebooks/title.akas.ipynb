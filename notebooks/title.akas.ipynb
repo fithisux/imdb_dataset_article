{
 "cells": [
  {
   "cell_type": "code",
   "execution_count": 25,
   "id": "afc5f502-b78a-4fcb-a72d-b8a019a74c0a",
   "metadata": {},
   "outputs": [
    {
     "name": "stderr",
     "output_type": "stream",
     "text": [
      "/var/folders/70/tpb1l8jd45s8zj742ljrmbs80000gp/T/ipykernel_59821/490874549.py:3: DtypeWarning: Columns (7) have mixed types. Specify dtype option on import or set low_memory=False.\n",
      "  df = pd.read_table('title.akas.tsv.gz')\n"
     ]
    },
    {
     "name": "stdout",
     "output_type": "stream",
     "text": [
      "            titleId ordering                      title region language  \\\n",
      "0         tt0000001        1                 Карменсіта     UA       \\N   \n",
      "1         tt0000001        2                 Carmencita     DE       \\N   \n",
      "2         tt0000001        3  Carmencita - spanyol tánc     HU       \\N   \n",
      "3         tt0000001        4                 Καρμενσίτα     GR       \\N   \n",
      "4         tt0000001        5                 Карменсита     RU       \\N   \n",
      "...             ...      ...                        ...    ...      ...   \n",
      "37551062  tt9916852        5             Episódio #3.20     PT       pt   \n",
      "37551063  tt9916852        6             Episodio #3.20     IT       it   \n",
      "37551064  tt9916852        7               एपिसोड #3.20     IN       hi   \n",
      "37551065  tt9916856        1                   The Wind     DE       \\N   \n",
      "37551066  tt9916856        2                   The Wind     \\N       \\N   \n",
      "\n",
      "                types     attributes isOriginalTitle  \n",
      "0         imdbDisplay             \\N               0  \n",
      "1                  \\N  literal title               0  \n",
      "2         imdbDisplay             \\N               0  \n",
      "3         imdbDisplay             \\N               0  \n",
      "4         imdbDisplay             \\N               0  \n",
      "...               ...            ...             ...  \n",
      "37551062           \\N             \\N               0  \n",
      "37551063           \\N             \\N               0  \n",
      "37551064           \\N             \\N               0  \n",
      "37551065  imdbDisplay             \\N               0  \n",
      "37551066     original             \\N               1  \n",
      "\n",
      "[37551067 rows x 8 columns]\n"
     ]
    }
   ],
   "source": [
    "import pandas as pd\n",
    "\n",
    "df = pd.read_table('title.akas.tsv.gz', dtype=str)\n",
    "print(df)"
   ]
  },
  {
   "cell_type": "code",
   "execution_count": 26,
   "id": "3584d9eb-65de-4c6a-bf46-aed760506de0",
   "metadata": {},
   "outputs": [
    {
     "data": {
      "text/plain": [
       "(array(['imdbDisplay', '\\\\N', 'original', 'alternative', 'festival', 'dvd',\n",
       "        'working', 'tv', 'video', 'imdbDisplay\\x02tv', 'alternative\\x02tv',\n",
       "        'imdbDisplay\\x02working', 'festival\\x02imdbDisplay',\n",
       "        'tv\\x02working', 'imdbDisplay\\x02video', 'alternative\\x02dvd',\n",
       "        'tv\\x02video', 'dvd\\x02imdbDisplay', 'video\\x02working',\n",
       "        'festival\\x02working', 'dvd\\x02video', 'alternative\\x02festival',\n",
       "        'alternative\\x02video', 'alternative\\x02working'], dtype=object),\n",
       " array([11,  2,  8,  3,  7,  5, 14, 19, 20, 10, 17, 15, 13, 16,  9]))"
      ]
     },
     "execution_count": 26,
     "metadata": {},
     "output_type": "execute_result"
    }
   ],
   "source": [
    "df['types'].unique() , df['types'].map(len).unique()"
   ]
  },
  {
   "cell_type": "code",
   "execution_count": 27,
   "id": "767d7793-22a6-4211-a894-ce81173f18bb",
   "metadata": {},
   "outputs": [],
   "source": [
    "separator=bytearray.fromhex(\"02\").decode('utf-8')\n",
    "df['correct_types'] = df['types'].str.replace(separator,\";\").str.split(\";\")"
   ]
  },
  {
   "cell_type": "code",
   "execution_count": 28,
   "id": "19cd190a-563d-4eee-a12c-4860eac26280",
   "metadata": {},
   "outputs": [
    {
     "data": {
      "text/plain": [
       "105150            [imdbDisplay, tv]\n",
       "154656            [alternative, tv]\n",
       "223736       [imdbDisplay, working]\n",
       "230850            [alternative, tv]\n",
       "307344            [imdbDisplay, tv]\n",
       "                     ...           \n",
       "35981862     [imdbDisplay, working]\n",
       "35985864    [festival, imdbDisplay]\n",
       "36115625          [imdbDisplay, tv]\n",
       "36633447     [imdbDisplay, working]\n",
       "37498522    [festival, imdbDisplay]\n",
       "Name: correct_types, Length: 457, dtype: object"
      ]
     },
     "execution_count": 28,
     "metadata": {},
     "output_type": "execute_result"
    }
   ],
   "source": [
    "df['correct_types'][df['correct_types'].map(len) == 2]"
   ]
  },
  {
   "cell_type": "code",
   "execution_count": 29,
   "id": "aac28dbb-3e1a-415b-896e-9a8fb078ab23",
   "metadata": {},
   "outputs": [
    {
     "data": {
      "text/plain": [
       "(array(['\\\\N', 'literal title', 'literal English title',\n",
       "        'informal alternative title', 'promotional title',\n",
       "        'complete title', 'reissue title', 'informal title',\n",
       "        'premiere title', 'short title', 'première title',\n",
       "        'bowdlerized title', 'informal English title',\n",
       "        'alternative spelling', 'original script title', 'copyright title',\n",
       "        'long title', 'transliterated title', 'informal short title',\n",
       "        'new title', 'review title', 'subtitle',\n",
       "        'original subtitled version', 'informal literal title',\n",
       "        'orthographically correct title', 'cut version',\n",
       "        'pre-release title', 'video catalogue title', 'second part title',\n",
       "        'fourth season title', 'third part title', 'fifth season title',\n",
       "        'series title', 'poster title', 'rerun title', '8mm release title',\n",
       "        'recut version', 'theatrical title', '16mm release title',\n",
       "        'first part title', 'informal literal English title',\n",
       "        'first episode title', 'segment title',\n",
       "        'Los Angeles première title', 'DVD box title',\n",
       "        'second copyright title', 'short version', 'video box title',\n",
       "        'restored version', 'english transliteration',\n",
       "        'recut version\\x02reissue title',\n",
       "        '8mm release title\\x02short version',\n",
       "        'alternative transliteration', 'DVD menu title',\n",
       "        'anthology series', 'censored version', 'trailer title',\n",
       "        'silent version', 'Berlin film festival title',\n",
       "        'Cannes festival title', 'dubbed version',\n",
       "        'added framing sequences and narration in Yiddish\\x02reissue title',\n",
       "        'bootleg title', 'Bable dialect title',\n",
       "        'Venice film festival title', 'Yiddish dubbed\\x02reissue title',\n",
       "        'cable TV title', 'uncensored intended title',\n",
       "        'literal translation of working title', 'last season title',\n",
       "        'Yiddish dubbed', 'TV listings title', 'YIVO translation',\n",
       "        'modern translation', 'long new title', \"director's cut\",\n",
       "        'POLart\\x02video box title', 'POLart',\n",
       "        'cut version\\x02reissue title',\n",
       "        'YIVO translation\\x02reissue title', 'racier version',\n",
       "        'redubbed comic version', '3-D version', 'IMAX version',\n",
       "        'syndication title', 'fake working title', 'closing credits title',\n",
       "        'armed forces circuit title', 'reissue title\\x02short version',\n",
       "        'unauthorized video title', 'first season title', 'summer title',\n",
       "        'longer version', 'second season title', 'sixth season title',\n",
       "        'first two episodes title', 'first episodes title',\n",
       "        'first three episodes title', 'Pay-TV title', 'tenth season title',\n",
       "        'MIFED title', '3-D video title', 'literal French title',\n",
       "        'third and fourth season title', 'videogame episode',\n",
       "        'new syndication title', 'promotional abbreviation',\n",
       "        'ninth season title', 'eighth season title', 'X-rated version',\n",
       "        'expansion title', 'correct transliteration', '16mm rental title',\n",
       "        'Los Angeles premiere title', 'fourteenth season title',\n",
       "        'teaser title', 'daytime version title', 'seventh season title',\n",
       "        'third season title', 'video CD title', 'LD title',\n",
       "        'soft porn version', 'cut version\\x02video box title',\n",
       "        'racier version\\x02reissue title',\n",
       "        '8mm release title\\x02second part title', 'weekend title',\n",
       "        'English translation of working title', 'twentyfifth season title',\n",
       "        'twentieth season title', 'fifteenth season title',\n",
       "        'fourth part title', 'thirtysecond season title',\n",
       "        'informal title\\x02literal title', 'cable TV title\\x02cut version',\n",
       "        'twentyfirst season title',\n",
       "        'closing credits title\\x02pre-release title',\n",
       "        'non-modified Hepburn romanization', 'Locarno film festival title',\n",
       "        'eleventh season title', 'first four episodes title',\n",
       "        'longer version\\x02rerun title', 'eighteenth season title',\n",
       "        'sixteenth season title', 'twelfth season title',\n",
       "        'twentythird season title', 'thirtieth season title',\n",
       "        'thirteenth season title', 'twentysecond season title',\n",
       "        'seventeenth season title', 'thirtythird season title',\n",
       "        'thirtyfirst season title', 'nineteenth season title',\n",
       "        'twentyseventh season title', 'game box title',\n",
       "        'title for episodes with guest hosts',\n",
       "        'approximation of original mirrored title',\n",
       "        'IMAX version\\x02promotional title', 'twentyfourth season title',\n",
       "        'twentysixth season title', 'X-rated version\\x02bootleg title',\n",
       "        'poster title\\x02video box title',\n",
       "        'dubbed version\\x02recut version', 'twentyninth season title',\n",
       "        'thirtyfourth season title',\n",
       "        'American Mutoscope & Biograph catalog title', 'R-rated version',\n",
       "        'original pilot title', 'thirtysixth season title',\n",
       "        'thirtyseventh season title', 'twentyeighth season title',\n",
       "        'thirtyninth season title', 'thirtyeighth season title',\n",
       "        'thirtyfifth season title', 'fortieth season title',\n",
       "        'Hakka dialect title', 'Bilbao festival title',\n",
       "        'promotional title\\x02thirteenth season title',\n",
       "        'orthographically correct title\\x02video box title',\n",
       "        'late Sunday edition', 'PC version',\n",
       "        'fourth season title\\x02recut version', 'GameCube version',\n",
       "        'third segment title', 'first segment title',\n",
       "        'second segment title', 'fifth part title', 'incorrect title',\n",
       "        'rumored'], dtype=object),\n",
       " array([ 2, 13, 21, 26, 17, 14, 11, 22, 20, 15, 10,  9, 12,  8, 30, 19, 16,\n",
       "        18, 23, 27, 31, 62, 28, 25, 36,  6, 24, 29, 35, 39, 33, 40, 43, 41,\n",
       "        46,  7]))"
      ]
     },
     "execution_count": 29,
     "metadata": {},
     "output_type": "execute_result"
    }
   ],
   "source": [
    "df['attributes'].unique() , df['attributes'].map(len).unique()"
   ]
  },
  {
   "cell_type": "code",
   "execution_count": 30,
   "id": "dfa3eddb-be05-4b14-bf36-2a300cd99e7f",
   "metadata": {},
   "outputs": [
    {
     "data": {
      "text/plain": [
       "22017                          [recut version, reissue title]\n",
       "25154                      [8mm release title, short version]\n",
       "51212       [added framing sequences and narration in Yidd...\n",
       "59970                         [Yiddish dubbed, reissue title]\n",
       "78304                         [Yiddish dubbed, reissue title]\n",
       "128687                              [POLart, video box title]\n",
       "129959                           [cut version, reissue title]\n",
       "136571                      [YIVO translation, reissue title]\n",
       "149858                         [recut version, reissue title]\n",
       "164845                        [Yiddish dubbed, reissue title]\n",
       "210524                         [reissue title, short version]\n",
       "212325                           [cut version, reissue title]\n",
       "307787                         [recut version, reissue title]\n",
       "458288                           [cut version, reissue title]\n",
       "528947                         [cut version, video box title]\n",
       "558475                         [cut version, video box title]\n",
       "560522                        [racier version, reissue title]\n",
       "562618                 [8mm release title, second part title]\n",
       "621301                        [informal title, literal title]\n",
       "659037                          [cable TV title, cut version]\n",
       "671182             [closing credits title, pre-release title]\n",
       "844935                          [longer version, rerun title]\n",
       "1050144                     [IMAX version, promotional title]\n",
       "1156633                          [cut version, reissue title]\n",
       "1177292                        [recut version, reissue title]\n",
       "1179594                      [X-rated version, bootleg title]\n",
       "1207714                       [poster title, video box title]\n",
       "1239088                       [dubbed version, recut version]\n",
       "1455085                     [IMAX version, promotional title]\n",
       "1582225          [promotional title, thirteenth season title]\n",
       "1614464                        [recut version, reissue title]\n",
       "1646720     [orthographically correct title, video box title]\n",
       "1824057                  [fourth season title, recut version]\n",
       "1837219                       [informal title, literal title]\n",
       "2185460                       [informal title, literal title]\n",
       "26670771                       [reissue title, short version]\n",
       "Name: correct_attributes, dtype: object"
      ]
     },
     "execution_count": 30,
     "metadata": {},
     "output_type": "execute_result"
    }
   ],
   "source": [
    "separator=bytearray.fromhex(\"02\").decode('utf-8')\n",
    "df['correct_attributes'] = df['attributes'].str.replace(separator,\";\").str.split(\";\")\n",
    "df['correct_attributes'][df['correct_attributes'].map(len) == 2]"
   ]
  },
  {
   "cell_type": "code",
   "execution_count": 31,
   "id": "17ac5dc4-8001-4f31-8d94-061ba4a7e685",
   "metadata": {},
   "outputs": [],
   "source": [
    "corrected_df = df.drop(['types', 'attributes'], axis=1)\n",
    "corrected_df.to_parquet('title.akas.parquet')"
   ]
  }
 ],
 "metadata": {
  "kernelspec": {
   "display_name": "Python 3 (ipykernel)",
   "language": "python",
   "name": "python3"
  },
  "language_info": {
   "codemirror_mode": {
    "name": "ipython",
    "version": 3
   },
   "file_extension": ".py",
   "mimetype": "text/x-python",
   "name": "python",
   "nbconvert_exporter": "python",
   "pygments_lexer": "ipython3",
   "version": "3.11.6"
  }
 },
 "nbformat": 4,
 "nbformat_minor": 5
}
